{
 "cells": [
  {
   "cell_type": "code",
   "execution_count": 25,
   "metadata": {},
   "outputs": [],
   "source": [
    "from twython import Twython, TwythonStreamer"
   ]
  },
  {
   "cell_type": "code",
   "execution_count": 9,
   "metadata": {},
   "outputs": [],
   "source": [
    "from auth import *"
   ]
  },
  {
   "cell_type": "code",
   "execution_count": 15,
   "metadata": {},
   "outputs": [],
   "source": [
    "from pprint import pprint"
   ]
  },
  {
   "cell_type": "code",
   "execution_count": 42,
   "metadata": {},
   "outputs": [],
   "source": [
    "from vaderSentiment.vaderSentiment import SentimentIntensityAnalyzer"
   ]
  },
  {
   "cell_type": "code",
   "execution_count": 45,
   "metadata": {},
   "outputs": [],
   "source": [
    "analyser = SentimentIntensityAnalyzer()"
   ]
  },
  {
   "cell_type": "code",
   "execution_count": 118,
   "metadata": {},
   "outputs": [
    {
     "data": {
      "text/plain": [
       "0.0"
      ]
     },
     "execution_count": 118,
     "metadata": {},
     "output_type": "execute_result"
    }
   ],
   "source": [
    "analyser.polarity_scores('poo')['compound']"
   ]
  },
  {
   "cell_type": "code",
   "execution_count": 10,
   "metadata": {},
   "outputs": [
    {
     "name": "stdout",
     "output_type": "stream",
     "text": [
      "1XAqZhBJMzftQ00GQ0cERKcAo\n"
     ]
    }
   ],
   "source": [
    "print(consumer_key)"
   ]
  },
  {
   "cell_type": "code",
   "execution_count": 13,
   "metadata": {},
   "outputs": [],
   "source": [
    "twitter = Twython(consumer_key, consumer_secret)"
   ]
  },
  {
   "cell_type": "code",
   "execution_count": 20,
   "metadata": {},
   "outputs": [
    {
     "name": "stdout",
     "output_type": "stream",
     "text": [
      "(\"b'iasip get me through this god forsaken day' was sent at Mon Apr 30 \"\n",
      " '11:06:31 +0000 2018 by a user with 56 followers')\n",
      "(\"b'ive been watching iasip all day and honestly its what i deserve' was sent \"\n",
      " 'at Mon Apr 30 10:01:57 +0000 2018 by a user with 220 followers')\n",
      "(\"b'Iasip: is highly transphobic\\\\nMe: I could watch this all day!' was sent \"\n",
      " 'at Mon Apr 30 10:00:00 +0000 2018 by a user with 168 followers')\n",
      "(\"b'@BoringEnormous Although I specialize in Bird Law, I may be able to help \"\n",
      " \"you with subsequent issues stemming from this event #iasip' was sent at Mon \"\n",
      " 'Apr 30 08:39:17 +0000 2018 by a user with 10 followers')\n",
      "('b\\'underrated moment in iasip:\\\\nwhen mac yells \"CRICKET!\" And it zooms in '\n",
      " \"on cricket rummaging through trash w dramatic music in the background' was \"\n",
      " 'sent at Mon Apr 30 08:29:32 +0000 2018 by a user with 380 followers')\n",
      "(\"b'me after binging 9 seasons of iasip in one week https://t.co/lQhy4abm1X' \"\n",
      " 'was sent at Mon Apr 30 07:48:50 +0000 2018 by a user with 1055 followers')\n",
      "(\"b'Runaway Train, Elton John-Eric Clapton [VIDEO] -- \"\n",
      " 'https://t.co/q38lrXtNYH               #RunawayTrain    '\n",
      " \"#EltonJohn\\\\xe2\\\\x80\\\\xa6 https://t.co/bE6YcUsNxg' was sent at Mon Apr 30 \"\n",
      " '06:37:24 +0000 2018 by a user with 723 followers')\n",
      "(\"b'Hulu &gt; Netflix, solely bc #iasip' was sent at Mon Apr 30 06:28:12 +0000 \"\n",
      " '2018 by a user with 15 followers')\n",
      "(\"b'Me trying to get people to love #Sunny as much as I do #AlwaysSunny #iasip \"\n",
      " \"https://t.co/n4kyqFLq0j' was sent at Mon Apr 30 05:32:28 +0000 2018 by a \"\n",
      " 'user with 426 followers')\n",
      "(\"b'who even was i before watching iasip season 4 episode 13 \"\n",
      " \"\\\\xe2\\\\x80\\\\x98the nightman cometh\\\\xe2\\\\x80\\\\x99' was sent at Mon Apr 30 \"\n",
      " '05:29:14 +0000 2018 by a user with 11 followers')\n",
      "(\"b'i need to get hulu so i can watch IASIP again ugh i miss that show so bad' \"\n",
      " 'was sent at Mon Apr 30 05:12:09 +0000 2018 by a user with 94 followers')\n",
      "(\"b'Lesbians who dress like Charlie from IASIP hmu please' was sent at Mon Apr \"\n",
      " '30 05:00:37 +0000 2018 by a user with 10 followers')\n",
      "(\"b'#Sunny starts filming tomorrow for Season 13! #AlwaysSunny #iasip \"\n",
      " \"https://t.co/DsdY03Xvq8' was sent at Mon Apr 30 04:59:48 +0000 2018 by a \"\n",
      " 'user with 426 followers')\n",
      "(\"b'to be honest im watching all of IASIP so i can be more sad when i read \"\n",
      " \"Newt Inherits a Bar for the 90th time' was sent at Mon Apr 30 04:47:38 +0000 \"\n",
      " '2018 by a user with 109 followers')\n",
      "(\"b'#IASIP irl https://t.co/s18xRseUca' was sent at Mon Apr 30 04:23:44 +0000 \"\n",
      " '2018 by a user with 873 followers')\n"
     ]
    }
   ],
   "source": [
    "for status in twitter.search(q='IASIP')['statuses']:\n",
    "    time = status['created_at']\n",
    "    influence = status['user']['followers_count']\n",
    "    tweet = status['text'].encode('utf-8')\n",
    "    pprint('{} was sent at {} by a user with {} followers'.format(tweet, time, influence))"
   ]
  },
  {
   "cell_type": "code",
   "execution_count": 24,
   "metadata": {},
   "outputs": [],
   "source": [
    "##twitter firehose"
   ]
  },
  {
   "cell_type": "code",
   "execution_count": 97,
   "metadata": {},
   "outputs": [],
   "source": [
    "tweets = []"
   ]
  },
  {
   "cell_type": "code",
   "execution_count": 98,
   "metadata": {},
   "outputs": [],
   "source": [
    "class MyTwythonStreamer(TwythonStreamer):\n",
    "    def on_success(self, data):\n",
    "        if data['lang']=='en':\n",
    "            tweets.append(data)\n",
    "            print('Received tweet #{}'.format(len(tweets)))\n",
    "        if len(tweets) >= 20:\n",
    "            self.disconnect()\n",
    "    def on_error(self, status_code, data):\n",
    "        print(status_code, data)\n",
    "        self.disconnect()"
   ]
  },
  {
   "cell_type": "code",
   "execution_count": 99,
   "metadata": {},
   "outputs": [],
   "source": [
    "stream = MyTwythonStreamer(consumer_key, consumer_secret, access_token, access_token_secret)"
   ]
  },
  {
   "cell_type": "code",
   "execution_count": 100,
   "metadata": {},
   "outputs": [
    {
     "name": "stdout",
     "output_type": "stream",
     "text": [
      "Received tweet #1\n",
      "Received tweet #2\n",
      "Received tweet #3\n",
      "Received tweet #4\n",
      "Received tweet #5\n",
      "Received tweet #6\n",
      "Received tweet #7\n",
      "Received tweet #8\n",
      "Received tweet #9\n",
      "Received tweet #10\n",
      "Received tweet #11\n",
      "Received tweet #12\n",
      "Received tweet #13\n",
      "Received tweet #14\n",
      "Received tweet #15\n",
      "Received tweet #16\n",
      "Received tweet #17\n",
      "Received tweet #18\n",
      "Received tweet #19\n",
      "Received tweet #20\n"
     ]
    }
   ],
   "source": [
    "stream.statuses.filter(track = 'hitler trump')"
   ]
  },
  {
   "cell_type": "code",
   "execution_count": 101,
   "metadata": {},
   "outputs": [],
   "source": [
    "tweet_dict = {i['text']:analyser.polarity_scores(i['text']) for i in tweets}"
   ]
  },
  {
   "cell_type": "code",
   "execution_count": 104,
   "metadata": {},
   "outputs": [
    {
     "name": "stdout",
     "output_type": "stream",
     "text": [
      "{'contributors': None,\n",
      " 'coordinates': None,\n",
      " 'created_at': 'Mon Apr 30 14:18:41 +0000 2018',\n",
      " 'entities': {'hashtags': [],\n",
      "              'symbols': [],\n",
      "              'urls': [],\n",
      "              'user_mentions': [{'id': 326533855,\n",
      "                                 'id_str': '326533855',\n",
      "                                 'indices': [3, 11],\n",
      "                                 'name': 'Lightskin Killmonger',\n",
      "                                 'screen_name': 'mawcusb'},\n",
      "                                {'id': 986388827311767557,\n",
      "                                 'id_str': '986388827311767557',\n",
      "                                 'indices': [13, 23],\n",
      "                                 'name': 'Dee Murray',\n",
      "                                 'screen_name': 'DeeThaGuy'},\n",
      "                                {'id': 18278629,\n",
      "                                 'id_str': '18278629',\n",
      "                                 'indices': [24, 38],\n",
      "                                 'name': 'ErykahBadoula',\n",
      "                                 'screen_name': 'fatbellybella'},\n",
      "                                {'id': 169686021,\n",
      "                                 'id_str': '169686021',\n",
      "                                 'indices': [39, 49],\n",
      "                                 'name': 'KANYE WEST',\n",
      "                                 'screen_name': 'kanyewest'}]},\n",
      " 'favorite_count': 0,\n",
      " 'favorited': False,\n",
      " 'filter_level': 'low',\n",
      " 'geo': None,\n",
      " 'id': 990958624804663298,\n",
      " 'id_str': '990958624804663298',\n",
      " 'in_reply_to_screen_name': None,\n",
      " 'in_reply_to_status_id': None,\n",
      " 'in_reply_to_status_id_str': None,\n",
      " 'in_reply_to_user_id': None,\n",
      " 'in_reply_to_user_id_str': None,\n",
      " 'is_quote_status': False,\n",
      " 'lang': 'en',\n",
      " 'place': None,\n",
      " 'quote_count': 0,\n",
      " 'reply_count': 0,\n",
      " 'retweet_count': 0,\n",
      " 'retweeted': False,\n",
      " 'retweeted_status': {'contributors': None,\n",
      "                      'coordinates': None,\n",
      "                      'created_at': 'Mon Apr 30 13:13:53 +0000 2018',\n",
      "                      'display_text_range': [37, 140],\n",
      "                      'entities': {'hashtags': [],\n",
      "                                   'symbols': [],\n",
      "                                   'urls': [{'display_url': 'twitter.com/i/web/status/9…',\n",
      "                                             'expanded_url': 'https://twitter.com/i/web/status/990942314850869248',\n",
      "                                             'indices': [117, 140],\n",
      "                                             'url': 'https://t.co/PAV4sOXxsz'}],\n",
      "                                   'user_mentions': [{'id': 986388827311767557,\n",
      "                                                      'id_str': '986388827311767557',\n",
      "                                                      'indices': [0, 10],\n",
      "                                                      'name': 'Dee Murray',\n",
      "                                                      'screen_name': 'DeeThaGuy'},\n",
      "                                                     {'id': 18278629,\n",
      "                                                      'id_str': '18278629',\n",
      "                                                      'indices': [11, 25],\n",
      "                                                      'name': 'ErykahBadoula',\n",
      "                                                      'screen_name': 'fatbellybella'},\n",
      "                                                     {'id': 169686021,\n",
      "                                                      'id_str': '169686021',\n",
      "                                                      'indices': [26, 36],\n",
      "                                                      'name': 'KANYE WEST',\n",
      "                                                      'screen_name': 'kanyewest'}]},\n",
      "                      'extended_tweet': {'display_text_range': [37, 296],\n",
      "                                         'entities': {'hashtags': [],\n",
      "                                                      'symbols': [],\n",
      "                                                      'urls': [],\n",
      "                                                      'user_mentions': [{'id': 986388827311767557,\n",
      "                                                                         'id_str': '986388827311767557',\n",
      "                                                                         'indices': [0,\n",
      "                                                                                     10],\n",
      "                                                                         'name': 'Dee '\n",
      "                                                                                 'Murray',\n",
      "                                                                         'screen_name': 'DeeThaGuy'},\n",
      "                                                                        {'id': 18278629,\n",
      "                                                                         'id_str': '18278629',\n",
      "                                                                         'indices': [11,\n",
      "                                                                                     25],\n",
      "                                                                         'name': 'ErykahBadoula',\n",
      "                                                                         'screen_name': 'fatbellybella'},\n",
      "                                                                        {'id': 169686021,\n",
      "                                                                         'id_str': '169686021',\n",
      "                                                                         'indices': [26,\n",
      "                                                                                     36],\n",
      "                                                                         'name': 'KANYE '\n",
      "                                                                                 'WEST',\n",
      "                                                                         'screen_name': 'kanyewest'}]},\n",
      "                                         'full_text': '@DeeThaGuy '\n",
      "                                                      '@fatbellybella '\n",
      "                                                      '@kanyewest Last week Ye '\n",
      "                                                      'came out and said he '\n",
      "                                                      'likes Trump, then '\n",
      "                                                      'started signing '\n",
      "                                                      'everything Trump, then '\n",
      "                                                      'wore a MAGA hat and '\n",
      "                                                      'niggas went crazy.\\n'\n",
      "                                                      '\\n'\n",
      "                                                      'Beforehand, a couple '\n",
      "                                                      'months ago Auntie '\n",
      "                                                      'Erykah said she “saw '\n",
      "                                                      'the good in Hitler” and '\n",
      "                                                      'everybody lost they '\n",
      "                                                      'shit in a similar '\n",
      "                                                      'manner'},\n",
      "                      'favorite_count': 20,\n",
      "                      'favorited': False,\n",
      "                      'filter_level': 'low',\n",
      "                      'geo': None,\n",
      "                      'id': 990942314850869248,\n",
      "                      'id_str': '990942314850869248',\n",
      "                      'in_reply_to_screen_name': 'DeeThaGuy',\n",
      "                      'in_reply_to_status_id': 990939382700900352,\n",
      "                      'in_reply_to_status_id_str': '990939382700900352',\n",
      "                      'in_reply_to_user_id': 986388827311767557,\n",
      "                      'in_reply_to_user_id_str': '986388827311767557',\n",
      "                      'is_quote_status': False,\n",
      "                      'lang': 'en',\n",
      "                      'place': None,\n",
      "                      'quote_count': 1,\n",
      "                      'reply_count': 2,\n",
      "                      'retweet_count': 5,\n",
      "                      'retweeted': False,\n",
      "                      'source': '<a href=\"http://twitter.com/download/iphone\" '\n",
      "                                'rel=\"nofollow\">Twitter for iPhone</a>',\n",
      "                      'text': '@DeeThaGuy @fatbellybella @kanyewest Last week '\n",
      "                              'Ye came out and said he likes Trump, then '\n",
      "                              'started signing everything… '\n",
      "                              'https://t.co/PAV4sOXxsz',\n",
      "                      'truncated': True,\n",
      "                      'user': {'contributors_enabled': False,\n",
      "                               'created_at': 'Thu Jun 30 02:21:50 +0000 2011',\n",
      "                               'default_profile': True,\n",
      "                               'default_profile_image': False,\n",
      "                               'description': 'vibe provider. professional '\n",
      "                                              'lurker. aesthetician. '\n",
      "                                              '#NOLA⚜️#setlife🎬 i make movies '\n",
      "                                              'and play on social media for '\n",
      "                                              'money.',\n",
      "                               'favourites_count': 4812,\n",
      "                               'follow_request_sent': None,\n",
      "                               'followers_count': 207,\n",
      "                               'following': None,\n",
      "                               'friends_count': 191,\n",
      "                               'geo_enabled': True,\n",
      "                               'id': 326533855,\n",
      "                               'id_str': '326533855',\n",
      "                               'is_translator': False,\n",
      "                               'lang': 'en',\n",
      "                               'listed_count': 2,\n",
      "                               'location': 'in dem skreets, Louisiana',\n",
      "                               'name': 'Lightskin Killmonger',\n",
      "                               'notifications': None,\n",
      "                               'profile_background_color': 'C0DEED',\n",
      "                               'profile_background_image_url': 'http://abs.twimg.com/images/themes/theme1/bg.png',\n",
      "                               'profile_background_image_url_https': 'https://abs.twimg.com/images/themes/theme1/bg.png',\n",
      "                               'profile_background_tile': False,\n",
      "                               'profile_banner_url': 'https://pbs.twimg.com/profile_banners/326533855/1361849048',\n",
      "                               'profile_image_url': 'http://pbs.twimg.com/profile_images/984196555329720320/K5ujJYft_normal.jpg',\n",
      "                               'profile_image_url_https': 'https://pbs.twimg.com/profile_images/984196555329720320/K5ujJYft_normal.jpg',\n",
      "                               'profile_link_color': '1DA1F2',\n",
      "                               'profile_sidebar_border_color': 'C0DEED',\n",
      "                               'profile_sidebar_fill_color': 'DDEEF6',\n",
      "                               'profile_text_color': '333333',\n",
      "                               'profile_use_background_image': True,\n",
      "                               'protected': False,\n",
      "                               'screen_name': 'mawcusb',\n",
      "                               'statuses_count': 11143,\n",
      "                               'time_zone': 'Central Time (US & Canada)',\n",
      "                               'translator_type': 'none',\n",
      "                               'url': 'http://instagram.com/shivemarcus',\n",
      "                               'utc_offset': -18000,\n",
      "                               'verified': False}},\n",
      " 'source': '<a href=\"http://twitter.com/download/iphone\" '\n",
      "           'rel=\"nofollow\">Twitter for iPhone</a>',\n",
      " 'text': 'RT @mawcusb: @DeeThaGuy @fatbellybella @kanyewest Last week Ye came '\n",
      "         'out and said he likes Trump, then started signing everything Trump, '\n",
      "         'the…',\n",
      " 'timestamp_ms': '1525097921931',\n",
      " 'truncated': False,\n",
      " 'user': {'contributors_enabled': False,\n",
      "          'created_at': 'Fri Nov 11 08:51:48 +0000 2016',\n",
      "          'default_profile': True,\n",
      "          'default_profile_image': False,\n",
      "          'description': 'the boy',\n",
      "          'favourites_count': 1039,\n",
      "          'follow_request_sent': None,\n",
      "          'followers_count': 206,\n",
      "          'following': None,\n",
      "          'friends_count': 359,\n",
      "          'geo_enabled': True,\n",
      "          'id': 796998849898446849,\n",
      "          'id_str': '796998849898446849',\n",
      "          'is_translator': False,\n",
      "          'lang': 'en',\n",
      "          'listed_count': 2,\n",
      "          'location': 'Dallas, TX',\n",
      "          'name': 'John Alexander',\n",
      "          'notifications': None,\n",
      "          'profile_background_color': 'F5F8FA',\n",
      "          'profile_background_image_url': '',\n",
      "          'profile_background_image_url_https': '',\n",
      "          'profile_background_tile': False,\n",
      "          'profile_banner_url': 'https://pbs.twimg.com/profile_banners/796998849898446849/1525019900',\n",
      "          'profile_image_url': 'http://pbs.twimg.com/profile_images/989348389056925697/rzTRk1M8_normal.jpg',\n",
      "          'profile_image_url_https': 'https://pbs.twimg.com/profile_images/989348389056925697/rzTRk1M8_normal.jpg',\n",
      "          'profile_link_color': '1DA1F2',\n",
      "          'profile_sidebar_border_color': 'C0DEED',\n",
      "          'profile_sidebar_fill_color': 'DDEEF6',\n",
      "          'profile_text_color': '333333',\n",
      "          'profile_use_background_image': True,\n",
      "          'protected': False,\n",
      "          'screen_name': '_yungjohn_',\n",
      "          'statuses_count': 2591,\n",
      "          'time_zone': None,\n",
      "          'translator_type': 'none',\n",
      "          'url': None,\n",
      "          'utc_offset': None,\n",
      "          'verified': False}}\n"
     ]
    }
   ],
   "source": [
    "pprint(tweets[0])"
   ]
  },
  {
   "cell_type": "code",
   "execution_count": 121,
   "metadata": {},
   "outputs": [],
   "source": [
    "for i in tweets:\n",
    "    info = []\n",
    "    Date = int(i['timestamp_ms'])\n",
    "    Text = i['text']\n",
    "    Compound_Sentiment = float(analyser.polarity_scores(i['text'])['compound'])\n",
    "    Language = i['lang']\n",
    "    Location = i['user']['location']\n",
    "    FriendCount = int(i['user']['friends_count'])\n",
    "    FollowerCount = int(i['user']['followers_count'])\n",
    "    Name = i['user']['name']\n",
    "    Status_Count = int(i['user']['statuses_count'])\n",
    "    Verified = i['user']['verified']\n",
    "    \n",
    "    info.append(Date)\n",
    "    info.append(Text)\n",
    "    info.append(Compound_Sentiment)\n",
    "    info.append(Language)\n",
    "    info.append(Location)\n",
    "    info.append(FriendCount)\n",
    "    info.append(FollowerCount)\n",
    "    info.append(Name)\n",
    "    info.append(Status_Count)\n",
    "    info.append(Verified)"
   ]
  },
  {
   "cell_type": "code",
   "execution_count": 114,
   "metadata": {},
   "outputs": [
    {
     "data": {
      "text/plain": [
       "['1525097921931',\n",
       " '1525097980020',\n",
       " '1525097984076',\n",
       " '1525098058621',\n",
       " '1525098064296',\n",
       " '1525098079229',\n",
       " '1525098083270',\n",
       " '1525098097382',\n",
       " '1525098105428',\n",
       " '1525098113752',\n",
       " '1525098124590',\n",
       " '1525098169817',\n",
       " '1525098174402',\n",
       " '1525098188604',\n",
       " '1525098213919',\n",
       " '1525098222236',\n",
       " '1525098229923',\n",
       " '1525098234895',\n",
       " '1525098275024',\n",
       " '1525098280754']"
      ]
     },
     "execution_count": 114,
     "metadata": {},
     "output_type": "execute_result"
    }
   ],
   "source": []
  },
  {
   "cell_type": "code",
   "execution_count": null,
   "metadata": {},
   "outputs": [],
   "source": [
    "################################################################################\n",
    "###################Function to scrape Tweets for given input####################"
   ]
  },
  {
   "cell_type": "code",
   "execution_count": 122,
   "metadata": {},
   "outputs": [],
   "source": [
    "from twython import Twython, TwythonStreamer\n",
    "from auth import *\n",
    "import pyodbc\n",
    "from pprint import pprint\n",
    "from vaderSentiment.vaderSentiment import SentimentIntensityAnalyzer"
   ]
  },
  {
   "cell_type": "code",
   "execution_count": 123,
   "metadata": {},
   "outputs": [],
   "source": [
    "analyser = SentimentIntensityAnalyzer()"
   ]
  },
  {
   "cell_type": "code",
   "execution_count": 124,
   "metadata": {},
   "outputs": [],
   "source": [
    "class MyTwythonStreamer(TwythonStreamer):\n",
    "    def on_success(self, data):\n",
    "        if data['lang']=='en':\n",
    "            tweets.append(data)\n",
    "            print('Received tweet #{}'.format(len(tweets)))\n",
    "        if len(tweets) >= 20:\n",
    "            self.disconnect()\n",
    "    def on_error(self, status_code, data):\n",
    "        print(status_code, data)\n",
    "        self.disconnect()"
   ]
  },
  {
   "cell_type": "code",
   "execution_count": 125,
   "metadata": {},
   "outputs": [],
   "source": [
    "conn = pyodbc.connect(r'DSN=adventureDSN;UID=python;PWD=password')"
   ]
  },
  {
   "cell_type": "code",
   "execution_count": 126,
   "metadata": {},
   "outputs": [],
   "source": [
    "cur = conn.cursor()"
   ]
  },
  {
   "cell_type": "code",
   "execution_count": 153,
   "metadata": {},
   "outputs": [],
   "source": [
    "def tweet_scraper(search):\n",
    "    tweets = []\n",
    "    stream = MyTwythonStreamer(consumer_key, consumer_secret, access_token, access_token_secret)\n",
    "    stream.statuses.filter(track = search)\n",
    "    query = 'INSERT INTO kubrick.twitter (Date, Text, CompoundSentiment, Language,\\\n",
    "    Location, FriendCount, FollowerCount, Name, Status_Count, Verified) VALUES (?,?,?,?,?,?,?,?,?,?)'\n",
    "    for i in tweets:\n",
    "        Date = int(i['timestamp_ms'])\n",
    "        Text = i['text']\n",
    "        Compound_Sentiment = float(analyser.polarity_scores(i['text'])['compound'])\n",
    "        Language = i['lang']\n",
    "        Location = i['user']['location']\n",
    "        FriendCount = int(i['user']['friends_count'])\n",
    "        FollowerCount = int(i['user']['followers_count'])\n",
    "        Name = i['user']['name']\n",
    "        Status_Count = int(i['user']['statuses_count'])\n",
    "        Verified = i['user']['verified']\n",
    "        cur.execute(query, Date, Text, Compound_Sentiment, Language, Location, FriendCount, FollowerCount, Name, Status_Count, Verified)\n",
    "        cur.commit()"
   ]
  },
  {
   "cell_type": "code",
   "execution_count": 150,
   "metadata": {},
   "outputs": [
    {
     "name": "stdout",
     "output_type": "stream",
     "text": [
      "Received tweet #1\n",
      "Received tweet #2\n",
      "Received tweet #3\n",
      "Received tweet #4\n",
      "Received tweet #5\n",
      "Received tweet #6\n",
      "Received tweet #7\n",
      "Received tweet #8\n",
      "Received tweet #9\n",
      "Received tweet #10\n",
      "Received tweet #11\n",
      "Received tweet #12\n",
      "Received tweet #13\n",
      "Received tweet #14\n",
      "Received tweet #15\n",
      "Received tweet #16\n",
      "Received tweet #17\n",
      "Received tweet #18\n",
      "Received tweet #19\n",
      "Received tweet #20\n"
     ]
    }
   ],
   "source": [
    "search = input('What would you like to scrape: ')\n",
    "tweet_scraper(search)"
   ]
  },
  {
   "cell_type": "code",
   "execution_count": 151,
   "metadata": {},
   "outputs": [],
   "source": [
    "query = 'INSERT INTO kubrick.twitter (Date, Text, CompoundSentiment, Language,\\\n",
    "    Location, FriendCount, FollowerCount, Name, Status_Count, Verified) VALUES (?,?,?,?,?,?,?,?,?,?)'\n",
    "for i in tweets:\n",
    "    Date = int(i['timestamp_ms'])\n",
    "    Text = i['text']\n",
    "    Compound_Sentiment = float(analyser.polarity_scores(i['text'])['compound'])\n",
    "    Language = i['lang']\n",
    "    Location = i['user']['location']\n",
    "    FriendCount = int(i['user']['friends_count'])\n",
    "    FollowerCount = int(i['user']['followers_count'])\n",
    "    Name = i['user']['name']\n",
    "    Status_Count = int(i['user']['statuses_count'])\n",
    "    Verified = i['user']['verified']\n",
    "    cur.execute(query, Date, Text, Compound_Sentiment, Language, Location, FriendCount, FollowerCount, Name, Status_Count, Verified)\n",
    "    cur.commit()"
   ]
  },
  {
   "cell_type": "code",
   "execution_count": 152,
   "metadata": {},
   "outputs": [],
   "source": [
    "tweets = []"
   ]
  },
  {
   "cell_type": "code",
   "execution_count": null,
   "metadata": {},
   "outputs": [],
   "source": []
  }
 ],
 "metadata": {
  "kernelspec": {
   "display_name": "Python 3",
   "language": "python",
   "name": "python3"
  },
  "language_info": {
   "codemirror_mode": {
    "name": "ipython",
    "version": 3
   },
   "file_extension": ".py",
   "mimetype": "text/x-python",
   "name": "python",
   "nbconvert_exporter": "python",
   "pygments_lexer": "ipython3",
   "version": "3.6.4"
  }
 },
 "nbformat": 4,
 "nbformat_minor": 2
}
